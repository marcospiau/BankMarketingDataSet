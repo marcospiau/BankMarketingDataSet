{
 "cells": [
  {
   "cell_type": "markdown",
   "metadata": {
    "ExecuteTime": {
     "end_time": "2019-08-11T00:11:47.963564Z",
     "start_time": "2019-08-11T00:11:47.960561Z"
    }
   },
   "source": [
    "# Initial imports"
   ]
  },
  {
   "cell_type": "code",
   "execution_count": 664,
   "metadata": {
    "ExecuteTime": {
     "end_time": "2019-08-14T05:57:52.873111Z",
     "start_time": "2019-08-14T05:57:49.296081Z"
    }
   },
   "outputs": [],
   "source": [
    "# Numeric and data processing\n",
    "import numpy as np\n",
    "import pandas as pd\n",
    "pd.options.display.max_columns = None\n",
    "from pandas.api.types import CategoricalDtype\n",
    "\n",
    "# sklearn\n",
    "from sklearn.preprocessing import StandardScaler, OneHotEncoder, FunctionTransformer, LabelEncoder\n",
    "from sklearn.compose import ColumnTransformer, make_column_transformer\n",
    "from sklearn.linear_model import LogisticRegression, Lasso, LassoCV, LogisticRegressionCV\n",
    "from sklearn.ensemble import RandomForestClassifier\n",
    "from sklearn.impute import SimpleImputer\n",
    "from sklearn.model_selection import train_test_split, cross_val_score, StratifiedKFold\n",
    "from sklearn.pipeline import Pipeline, make_pipeline, FeatureUnion, make_union\n",
    "from sklearn.metrics import make_scorer\n",
    "from scipy.stats import ks_2samp\n",
    "from sklearn_pandas import DataFrameMapper\n",
    "from sklearn.model_selection import GridSearchCV, RandomizedSearchCV, ParameterGrid\n",
    "from sklearn.feature_selection import SelectFromModel, VarianceThreshold, chi2, SelectKBest\n",
    "\n",
    "# plotting\n",
    "import matplotlib.pyplot as plt\n",
    "import scikitplot as skplt\n",
    "import seaborn as sns\n",
    "\n",
    "%matplotlib inline"
   ]
  },
  {
   "cell_type": "code",
   "execution_count": null,
   "metadata": {
    "ExecuteTime": {
     "end_time": "2019-08-14T02:00:36.869258Z",
     "start_time": "2019-08-14T02:00:36.865254Z"
    }
   },
   "outputs": [],
   "source": [
    "# Global random state for reproducibility\n",
    "random_state_global = 42"
   ]
  },
  {
   "cell_type": "markdown",
   "metadata": {},
   "source": [
    "# Dataprep"
   ]
  },
  {
   "cell_type": "markdown",
   "metadata": {},
   "source": [
    "## Reading data from csv"
   ]
  },
  {
   "cell_type": "markdown",
   "metadata": {},
   "source": [
    "8. Missing Attribute Values: There are several missing values in some categorical attributes, all coded with the \"unknown\" label. These missing values can be treated as a possible class label or using deletion or imputation techniques. "
   ]
  },
  {
   "cell_type": "code",
   "execution_count": null,
   "metadata": {
    "ExecuteTime": {
     "end_time": "2019-08-14T02:00:41.038952Z",
     "start_time": "2019-08-14T02:00:40.936859Z"
    }
   },
   "outputs": [],
   "source": [
    "df_full = pd.read_csv('../data/bank-additional/bank-additional-full.csv', sep=';', na_values=['unknown'])\n",
    "df_full.columns = df_full.columns.str.replace('.', '_')"
   ]
  },
  {
   "cell_type": "code",
   "execution_count": null,
   "metadata": {
    "ExecuteTime": {
     "end_time": "2019-08-14T02:00:42.539436Z",
     "start_time": "2019-08-14T02:00:42.522132Z"
    }
   },
   "outputs": [],
   "source": [
    "df_full.head()"
   ]
  },
  {
   "cell_type": "code",
   "execution_count": null,
   "metadata": {
    "ExecuteTime": {
     "end_time": "2019-08-14T02:00:42.782126Z",
     "start_time": "2019-08-14T02:00:42.762106Z"
    }
   },
   "outputs": [],
   "source": [
    "# Is there missing values on data? YES, I forced it using a_values=['unknown'] using \n",
    "df_full.isnull().sum()"
   ]
  },
  {
   "cell_type": "markdown",
   "metadata": {
    "ExecuteTime": {
     "end_time": "2019-08-11T00:30:56.332631Z",
     "start_time": "2019-08-11T00:30:56.330629Z"
    }
   },
   "source": [
    "## Categorical and numeric data preprocessing"
   ]
  },
  {
   "cell_type": "markdown",
   "metadata": {
    "ExecuteTime": {
     "end_time": "2019-08-11T02:08:22.786742Z",
     "start_time": "2019-08-11T02:08:22.782748Z"
    }
   },
   "source": [
    "## Categorical data"
   ]
  },
  {
   "cell_type": "markdown",
   "metadata": {},
   "source": [
    "Some categorical have a meaningful ordering, like education ('basic.4y' < 'basic.6y',  ...) and default ('yes' > 'no'). For these\n",
    "we will use this information while creating the category data type; for the others, there is no meaningful order, and we will not specify order while creating the category data type."
   ]
  },
  {
   "cell_type": "code",
   "execution_count": null,
   "metadata": {
    "ExecuteTime": {
     "end_time": "2019-08-14T02:00:44.091152Z",
     "start_time": "2019-08-14T02:00:44.026102Z"
    },
    "scrolled": true
   },
   "outputs": [],
   "source": [
    "# Frequency of categories for each categorical feature\n",
    "for col in df_full.select_dtypes('O').columns:\n",
    "    print('\\n', col)\n",
    "    print(df_full[col].value_counts(dropna=False))"
   ]
  },
  {
   "cell_type": "markdown",
   "metadata": {},
   "source": [
    "## Downcasting numeric features to reduce memory usage\n",
    "(inspired on https://www.kaggle.com/gemartin/load-data-reduce-memory-usage)"
   ]
  },
  {
   "cell_type": "code",
   "execution_count": null,
   "metadata": {
    "ExecuteTime": {
     "end_time": "2019-08-14T02:00:47.538318Z",
     "start_time": "2019-08-14T02:00:47.505273Z"
    }
   },
   "outputs": [],
   "source": [
    "# Dict storing datatypes of all features\n",
    "dict_dtypes = {}\n",
    "\n",
    "# Categorical features with meaningful ordering\n",
    "dict_dtypes['education'] = CategoricalDtype(categories = ['illiterate', 'basic.4y', 'basic.6y', 'basic.9y', 'high.school', \n",
    "                                                          'professional.course', 'university.degree']\n",
    "                                            , ordered=True)\n",
    "\n",
    "dict_dtypes['default'] = CategoricalDtype(categories = ['no', 'yes'], ordered=True)\n",
    "dict_dtypes['housing'] = CategoricalDtype(categories = ['no', 'yes'], ordered=True)\n",
    "dict_dtypes['loan'] = CategoricalDtype(categories = ['no', 'yes'], ordered=True)\n",
    "dict_dtypes['poutcome'] = CategoricalDtype(categories = ['failure', 'success'], ordered=True)# nonexistent considered as missing value\n",
    "dict_dtypes['y'] = CategoricalDtype(categories = ['no', 'yes'], ordered=True)\n",
    "\n",
    "# Polemic\n",
    "dict_dtypes['day_of_week'] = CategoricalDtype(categories = ['mon', 'tue', 'wed', 'thu', 'fri'], ordered=True)\n",
    "dict_dtypes['month'] = CategoricalDtype(categories = ['jan', 'feb', 'mar', 'apr', 'may', 'jun', 'jul', 'aug',\n",
    "                                                     'sep', 'oct', 'nov', 'dec'], ordered=True)\n",
    "# Other categorical features\n",
    "for col in df_full.select_dtypes('O').columns:\n",
    "    if col not in dict_dtypes.keys():\n",
    "        dict_dtypes[col] = CategoricalDtype(categories = sorted(df_full[col].dropna().unique()), ordered=False)"
   ]
  },
  {
   "cell_type": "code",
   "execution_count": null,
   "metadata": {
    "ExecuteTime": {
     "end_time": "2019-08-14T02:00:49.058605Z",
     "start_time": "2019-08-14T02:00:48.969526Z"
    }
   },
   "outputs": [],
   "source": [
    "# Note: pandas alerady have nullable integer datatypes, but I will not use. If a integer column have at least a missing value,\n",
    "# it will be converted to float32.\n",
    "for col in df_full.select_dtypes(np.number):\n",
    "    _vec_min_max = df_full[col].describe()[['min','max']]\n",
    "    _has_null = df_full[col].isnull().max()\n",
    "    _has_float = (df_full[col] % 1 != 0).any()\n",
    "    \n",
    "    if _has_float or _has_null:\n",
    "        dict_dtypes[col] = pd.to_numeric(_vec_min_max, downcast='float').dtype\n",
    "    else:\n",
    "        if _vec_min_max[0] >=0:\n",
    "            dict_dtypes[col] = pd.to_numeric(_vec_min_max, downcast='unsigned').dtype\n",
    "        else:\n",
    "            dict_dtypes[col] = pd.to_numeric(_vec_min_max, downcast='signed').dtype\n",
    "\n",
    "start_memory_usage = df_full.memory_usage().sum() / 1024**2\n",
    "end_memory_usage = df_full.astype(dict_dtypes).memory_usage().sum() / 1024**2\n",
    "\n",
    "print('Initial memory usage: {:.2f} MB'.format(start_memory_usage))\n",
    "print('Memory usage after optimization: {:.2f} MB'.format(end_memory_usage))\n",
    "print('Memory usage decreased by {:.1f}%'.format(100 * (start_memory_usage - end_memory_usage) / start_memory_usage))"
   ]
  },
  {
   "cell_type": "markdown",
   "metadata": {},
   "source": [
    "## Applying new dtypes inplace on initial dataframe"
   ]
  },
  {
   "cell_type": "code",
   "execution_count": null,
   "metadata": {
    "ExecuteTime": {
     "end_time": "2019-08-14T02:00:51.285316Z",
     "start_time": "2019-08-14T02:00:51.257292Z"
    }
   },
   "outputs": [],
   "source": [
    "df_full = df_full.astype(dict_dtypes)"
   ]
  },
  {
   "cell_type": "markdown",
   "metadata": {},
   "source": [
    "# Modelling"
   ]
  },
  {
   "cell_type": "markdown",
   "metadata": {
    "ExecuteTime": {
     "end_time": "2019-08-11T05:09:13.706264Z",
     "start_time": "2019-08-11T05:09:13.702270Z"
    }
   },
   "source": [
    "## Train test split"
   ]
  },
  {
   "cell_type": "code",
   "execution_count": 450,
   "metadata": {
    "ExecuteTime": {
     "end_time": "2019-08-14T04:37:14.997074Z",
     "start_time": "2019-08-14T04:37:14.979042Z"
    }
   },
   "outputs": [],
   "source": [
    "# I used pd.get_dummies before splitting instead of including then on pipeline for simplicity\n",
    "X_train, X_test, y_train, y_test = train_test_split(df_full.drop('y', axis=1), df_full['y'].cat.codes,\n",
    "                                                    test_size=0.20, random_state=random_state_global)"
   ]
  },
  {
   "cell_type": "code",
   "execution_count": 451,
   "metadata": {
    "ExecuteTime": {
     "end_time": "2019-08-14T04:37:16.016197Z",
     "start_time": "2019-08-14T04:37:16.002184Z"
    }
   },
   "outputs": [],
   "source": [
    "num_cols = df_full.select_dtypes(np.number).columns.to_list()\n",
    "cat_cols = df_full.drop(['y'], axis=1).select_dtypes('category').columns.to_list()"
   ]
  },
  {
   "cell_type": "markdown",
   "metadata": {
    "ExecuteTime": {
     "end_time": "2019-08-11T07:11:24.451526Z",
     "start_time": "2019-08-11T07:11:24.448523Z"
    }
   },
   "source": [
    "## KS and gini functions and sklearn scorers"
   ]
  },
  {
   "cell_type": "code",
   "execution_count": null,
   "metadata": {
    "ExecuteTime": {
     "end_time": "2019-08-14T02:00:55.048816Z",
     "start_time": "2019-08-14T02:00:55.040799Z"
    }
   },
   "outputs": [],
   "source": [
    "def ks_stat(y_true, y_proba):\n",
    "#     As seen on https://medium.com/@xiaowei_6531/using-ks-stat-as-a-model-evaluation-metric-in-scikit-learns-gridsearchcv-33135101601c\n",
    "    return ks_2samp(y_proba[y_true==1], y_proba[y_true!=1]).statistic\n",
    "\n",
    "ks_scorer = make_scorer(ks_stat, needs_proba=True, greater_is_better=True)\n",
    "\n",
    "#Remove redundant calls\n",
    "def ginic(actual, pred):\n",
    "    actual = np.asarray(actual) #In case, someone passes Series or list\n",
    "    n = len(actual)\n",
    "    a_s = actual[np.argsort(pred)]\n",
    "    a_c = a_s.cumsum()\n",
    "    giniSum = a_c.sum() / a_s.sum() - (n + 1) / 2.0\n",
    "    return giniSum / n\n",
    " \n",
    "def gini_normalizedc(a, p):\n",
    "    if p.ndim == 2:#Required for sklearn wrapper\n",
    "        p = p[:,1] #If proba array contains proba for both 0 and 1 classes, just pick class 1\n",
    "    return ginic(a, p) / ginic(a, a)\n",
    "\n",
    "gini_scorer = make_scorer(gini_normalizedc, needs_proba=True, greater_is_better=True)"
   ]
  },
  {
   "cell_type": "markdown",
   "metadata": {
    "ExecuteTime": {
     "end_time": "2019-08-11T06:19:00.014034Z",
     "start_time": "2019-08-11T06:19:00.011041Z"
    }
   },
   "source": [
    "## Basic pipeline"
   ]
  },
  {
   "cell_type": "code",
   "execution_count": null,
   "metadata": {
    "ExecuteTime": {
     "end_time": "2019-08-14T02:00:56.325059Z",
     "start_time": "2019-08-14T02:00:56.321047Z"
    }
   },
   "outputs": [],
   "source": [
    "# KFold for hyperparameter tuning and acessing model quality\n",
    "kf = StratifiedKFold(n_splits=5, shuffle=True, random_state=random_state_global)"
   ]
  },
  {
   "cell_type": "code",
   "execution_count": 494,
   "metadata": {
    "ExecuteTime": {
     "end_time": "2019-08-14T04:58:33.080956Z",
     "start_time": "2019-08-14T04:58:33.072948Z"
    }
   },
   "outputs": [],
   "source": [
    "def get_cat_codes(X, return_df=True):\n",
    "    if return_df:\n",
    "        return X.apply(lambda x: x.cat.codes)\n",
    "    else:\n",
    "        return X.apply(lambda x: x.cat.codes).values\n",
    "\n",
    "def from_cat_to_str(X):\n",
    "    return X.astype(str)\n",
    "    \n",
    "def f_select_dtypes(X, dtype):\n",
    "    return X.select_dtypes()\n",
    "\n",
    "select_num_transformer = FunctionTransformer(lambda x: x.select_dtypes(np.number), validate=False)\n",
    "select_cat_transformer = FunctionTransformer(lambda x: x.select_dtypes('category'), validate=False)\n",
    "get_cat_codes_transformer = FunctionTransformer(get_cat_codes, validate=False)\n",
    "from_cat_to_str_transformer = FunctionTransformer(from_cat_to_str, validate=False)"
   ]
  },
  {
   "cell_type": "code",
   "execution_count": null,
   "metadata": {
    "ExecuteTime": {
     "end_time": "2019-08-14T02:00:59.184107Z",
     "start_time": "2019-08-14T02:00:59.177102Z"
    }
   },
   "outputs": [],
   "source": [
    "# If would like to use OneHotEncoder inside pipeline (NOT USED, just for reference!!!)\n",
    "# Using sklearn pipelines\n",
    "linear_model_pipeline = FeatureUnion([\n",
    "    ('num_feat', make_pipeline(select_num_transformer ,StandardScaler())),\n",
    "    ('cat_feat', make_pipeline(select_cat_transformer ,get_cat_features_transformer, OneHotEncoder(sparse=False, handle_unknown='ignore', categories='auto')))\n",
    "     ])\n",
    "\n",
    "# Using DataFrameMapper from sklearn_pandas (Using OneHotEncoder instead of pd.get_dummies)\n",
    "# TODO: remove x0 on feature encoded on OneHotEncoder\n",
    "mapper = DataFrameMapper(\n",
    "    [([col], StandardScaler()) for col in num_cols] + \n",
    "    [([col], [get_cat_features_transformer, OneHotEncoder(dtype=np.int8, sparse=False, handle_unknown='ignore', categories='auto')]) for col in cat_cols]\n",
    "     , input_df=True, df_out=True)\n",
    "# mapper.fit_transform(df_full)"
   ]
  },
  {
   "cell_type": "markdown",
   "metadata": {
    "ExecuteTime": {
     "end_time": "2019-08-14T02:01:34.187120Z",
     "start_time": "2019-08-14T02:01:34.185127Z"
    }
   },
   "source": [
    "# Metrics for models"
   ]
  },
  {
   "cell_type": "code",
   "execution_count": 500,
   "metadata": {
    "ExecuteTime": {
     "end_time": "2019-08-14T05:01:02.207682Z",
     "start_time": "2019-08-14T05:01:02.201678Z"
    }
   },
   "outputs": [],
   "source": [
    "# Generic Pipeline\n",
    "num_pipe = Pipeline(steps=[('scaler', None)])\n",
    "cat_pipe = Pipeline(steps=[('cat_imputer', SimpleImputer(strategy='constant', fill_value='cat_missing')),\n",
    "                           ('cat_encoder_1', None), ('cat_encoder_2', None)])\n",
    "\n",
    "feat_pipe = ColumnTransformer(\n",
    "    transformers=[\n",
    "        ('cat', cat_pipe, cat_cols),\n",
    "        ('num', num_pipe, num_cols)])\n",
    "\n",
    "clf = Pipeline(steps=[('feat_pipe', feat_pipe),\n",
    "                      ('classifier', None)])\n"
   ]
  },
  {
   "cell_type": "code",
   "execution_count": 601,
   "metadata": {
    "ExecuteTime": {
     "end_time": "2019-08-14T05:44:49.549647Z",
     "start_time": "2019-08-14T05:42:18.392779Z"
    },
    "scrolled": true
   },
   "outputs": [
    {
     "name": "stdout",
     "output_type": "stream",
     "text": [
      "Fitting 5 folds for each of 3 candidates, totalling 15 fits\n",
      "[CV] classifier=LogisticRegression(C=1.0, class_weight='balanced', dual=False,\n",
      "                   fit_intercept=True, intercept_scaling=1, l1_ratio=None,\n",
      "                   max_iter=1000, multi_class='warn', n_jobs=10,\n",
      "                   penalty='elasticnet', random_state=42, solver='saga',\n",
      "                   tol=0.0001, verbose=0, warm_start=False), classifier__l1_ratio=0, feat_pipe__cat__cat_encoder_1=FunctionTransformer(accept_sparse=False, check_inverse=True,\n",
      "                    func=<function from_cat_to_str at 0x000001E59BA580D8>,\n",
      "                    inv_kw_args=None, inverse_func=None, kw_args=None,\n",
      "                    pass_y='deprecated', validate=False), feat_pipe__cat__cat_encoder_2=OneHotEncoder(categorical_features=None, categories='auto', drop=None,\n",
      "              dtype=<class 'numpy.uint8'>, handle_unknown='ignore',\n",
      "              n_values=None, sparse=False), feat_pipe__num__scaler=StandardScaler(copy=True, with_mean=True, with_std=True) \n"
     ]
    },
    {
     "name": "stderr",
     "output_type": "stream",
     "text": [
      "[Parallel(n_jobs=1)]: Using backend SequentialBackend with 1 concurrent workers.\n"
     ]
    },
    {
     "name": "stdout",
     "output_type": "stream",
     "text": [
      "[CV]  classifier=LogisticRegression(C=1.0, class_weight='balanced', dual=False,\n",
      "                   fit_intercept=True, intercept_scaling=1, l1_ratio=None,\n",
      "                   max_iter=1000, multi_class='warn', n_jobs=10,\n",
      "                   penalty='elasticnet', random_state=42, solver='saga',\n",
      "                   tol=0.0001, verbose=0, warm_start=False), classifier__l1_ratio=0, feat_pipe__cat__cat_encoder_1=FunctionTransformer(accept_sparse=False, check_inverse=True,\n",
      "                    func=<function from_cat_to_str at 0x000001E59BA580D8>,\n",
      "                    inv_kw_args=None, inverse_func=None, kw_args=None,\n",
      "                    pass_y='deprecated', validate=False), feat_pipe__cat__cat_encoder_2=OneHotEncoder(categorical_features=None, categories='auto', drop=None,\n",
      "              dtype=<class 'numpy.uint8'>, handle_unknown='ignore',\n",
      "              n_values=None, sparse=False), feat_pipe__num__scaler=StandardScaler(copy=True, with_mean=True, with_std=True), total=   5.0s\n",
      "[CV] classifier=LogisticRegression(C=1.0, class_weight='balanced', dual=False,\n",
      "                   fit_intercept=True, intercept_scaling=1, l1_ratio=0,\n",
      "                   max_iter=1000, multi_class='warn', n_jobs=10,\n",
      "                   penalty='elasticnet', random_state=42, solver='saga',\n",
      "                   tol=0.0001, verbose=0, warm_start=False), classifier__l1_ratio=0, feat_pipe__cat__cat_encoder_1=FunctionTransformer(accept_sparse=False, check_inverse=True,\n",
      "                    func=<function from_cat_to_str at 0x000001E59BA580D8>,\n",
      "                    inv_kw_args=None, inverse_func=None, kw_args=None,\n",
      "                    pass_y='deprecated', validate=False), feat_pipe__cat__cat_encoder_2=OneHotEncoder(categorical_features=None, categories='auto', drop=None,\n",
      "              dtype=<class 'numpy.uint8'>, handle_unknown='ignore',\n",
      "              n_values=None, sparse=False), feat_pipe__num__scaler=StandardScaler(copy=True, with_mean=True, with_std=True) \n"
     ]
    },
    {
     "name": "stderr",
     "output_type": "stream",
     "text": [
      "[Parallel(n_jobs=1)]: Done   1 out of   1 | elapsed:    5.1s remaining:    0.0s\n"
     ]
    },
    {
     "name": "stdout",
     "output_type": "stream",
     "text": [
      "[CV]  classifier=LogisticRegression(C=1.0, class_weight='balanced', dual=False,\n",
      "                   fit_intercept=True, intercept_scaling=1, l1_ratio=0,\n",
      "                   max_iter=1000, multi_class='warn', n_jobs=10,\n",
      "                   penalty='elasticnet', random_state=42, solver='saga',\n",
      "                   tol=0.0001, verbose=0, warm_start=False), classifier__l1_ratio=0, feat_pipe__cat__cat_encoder_1=FunctionTransformer(accept_sparse=False, check_inverse=True,\n",
      "                    func=<function from_cat_to_str at 0x000001E59BA580D8>,\n",
      "                    inv_kw_args=None, inverse_func=None, kw_args=None,\n",
      "                    pass_y='deprecated', validate=False), feat_pipe__cat__cat_encoder_2=OneHotEncoder(categorical_features=None, categories='auto', drop=None,\n",
      "              dtype=<class 'numpy.uint8'>, handle_unknown='ignore',\n",
      "              n_values=None, sparse=False), feat_pipe__num__scaler=StandardScaler(copy=True, with_mean=True, with_std=True), total=   6.4s\n",
      "[CV] classifier=LogisticRegression(C=1.0, class_weight='balanced', dual=False,\n",
      "                   fit_intercept=True, intercept_scaling=1, l1_ratio=0,\n",
      "                   max_iter=1000, multi_class='warn', n_jobs=10,\n",
      "                   penalty='elasticnet', random_state=42, solver='saga',\n",
      "                   tol=0.0001, verbose=0, warm_start=False), classifier__l1_ratio=0, feat_pipe__cat__cat_encoder_1=FunctionTransformer(accept_sparse=False, check_inverse=True,\n",
      "                    func=<function from_cat_to_str at 0x000001E59BA580D8>,\n",
      "                    inv_kw_args=None, inverse_func=None, kw_args=None,\n",
      "                    pass_y='deprecated', validate=False), feat_pipe__cat__cat_encoder_2=OneHotEncoder(categorical_features=None, categories='auto', drop=None,\n",
      "              dtype=<class 'numpy.uint8'>, handle_unknown='ignore',\n",
      "              n_values=None, sparse=False), feat_pipe__num__scaler=StandardScaler(copy=True, with_mean=True, with_std=True) \n",
      "[CV]  classifier=LogisticRegression(C=1.0, class_weight='balanced', dual=False,\n",
      "                   fit_intercept=True, intercept_scaling=1, l1_ratio=0,\n",
      "                   max_iter=1000, multi_class='warn', n_jobs=10,\n",
      "                   penalty='elasticnet', random_state=42, solver='saga',\n",
      "                   tol=0.0001, verbose=0, warm_start=False), classifier__l1_ratio=0, feat_pipe__cat__cat_encoder_1=FunctionTransformer(accept_sparse=False, check_inverse=True,\n",
      "                    func=<function from_cat_to_str at 0x000001E59BA580D8>,\n",
      "                    inv_kw_args=None, inverse_func=None, kw_args=None,\n",
      "                    pass_y='deprecated', validate=False), feat_pipe__cat__cat_encoder_2=OneHotEncoder(categorical_features=None, categories='auto', drop=None,\n",
      "              dtype=<class 'numpy.uint8'>, handle_unknown='ignore',\n",
      "              n_values=None, sparse=False), feat_pipe__num__scaler=StandardScaler(copy=True, with_mean=True, with_std=True), total=   5.5s\n",
      "[CV] classifier=LogisticRegression(C=1.0, class_weight='balanced', dual=False,\n",
      "                   fit_intercept=True, intercept_scaling=1, l1_ratio=0,\n",
      "                   max_iter=1000, multi_class='warn', n_jobs=10,\n",
      "                   penalty='elasticnet', random_state=42, solver='saga',\n",
      "                   tol=0.0001, verbose=0, warm_start=False), classifier__l1_ratio=0, feat_pipe__cat__cat_encoder_1=FunctionTransformer(accept_sparse=False, check_inverse=True,\n",
      "                    func=<function from_cat_to_str at 0x000001E59BA580D8>,\n",
      "                    inv_kw_args=None, inverse_func=None, kw_args=None,\n",
      "                    pass_y='deprecated', validate=False), feat_pipe__cat__cat_encoder_2=OneHotEncoder(categorical_features=None, categories='auto', drop=None,\n",
      "              dtype=<class 'numpy.uint8'>, handle_unknown='ignore',\n",
      "              n_values=None, sparse=False), feat_pipe__num__scaler=StandardScaler(copy=True, with_mean=True, with_std=True) \n",
      "[CV]  classifier=LogisticRegression(C=1.0, class_weight='balanced', dual=False,\n",
      "                   fit_intercept=True, intercept_scaling=1, l1_ratio=0,\n",
      "                   max_iter=1000, multi_class='warn', n_jobs=10,\n",
      "                   penalty='elasticnet', random_state=42, solver='saga',\n",
      "                   tol=0.0001, verbose=0, warm_start=False), classifier__l1_ratio=0, feat_pipe__cat__cat_encoder_1=FunctionTransformer(accept_sparse=False, check_inverse=True,\n",
      "                    func=<function from_cat_to_str at 0x000001E59BA580D8>,\n",
      "                    inv_kw_args=None, inverse_func=None, kw_args=None,\n",
      "                    pass_y='deprecated', validate=False), feat_pipe__cat__cat_encoder_2=OneHotEncoder(categorical_features=None, categories='auto', drop=None,\n",
      "              dtype=<class 'numpy.uint8'>, handle_unknown='ignore',\n",
      "              n_values=None, sparse=False), feat_pipe__num__scaler=StandardScaler(copy=True, with_mean=True, with_std=True), total=   5.3s\n",
      "[CV] classifier=LogisticRegression(C=1.0, class_weight='balanced', dual=False,\n",
      "                   fit_intercept=True, intercept_scaling=1, l1_ratio=0,\n",
      "                   max_iter=1000, multi_class='warn', n_jobs=10,\n",
      "                   penalty='elasticnet', random_state=42, solver='saga',\n",
      "                   tol=0.0001, verbose=0, warm_start=False), classifier__l1_ratio=0, feat_pipe__cat__cat_encoder_1=FunctionTransformer(accept_sparse=False, check_inverse=True,\n",
      "                    func=<function from_cat_to_str at 0x000001E59BA580D8>,\n",
      "                    inv_kw_args=None, inverse_func=None, kw_args=None,\n",
      "                    pass_y='deprecated', validate=False), feat_pipe__cat__cat_encoder_2=OneHotEncoder(categorical_features=None, categories='auto', drop=None,\n",
      "              dtype=<class 'numpy.uint8'>, handle_unknown='ignore',\n",
      "              n_values=None, sparse=False), feat_pipe__num__scaler=StandardScaler(copy=True, with_mean=True, with_std=True) \n",
      "[CV]  classifier=LogisticRegression(C=1.0, class_weight='balanced', dual=False,\n",
      "                   fit_intercept=True, intercept_scaling=1, l1_ratio=0,\n",
      "                   max_iter=1000, multi_class='warn', n_jobs=10,\n",
      "                   penalty='elasticnet', random_state=42, solver='saga',\n",
      "                   tol=0.0001, verbose=0, warm_start=False), classifier__l1_ratio=0, feat_pipe__cat__cat_encoder_1=FunctionTransformer(accept_sparse=False, check_inverse=True,\n",
      "                    func=<function from_cat_to_str at 0x000001E59BA580D8>,\n",
      "                    inv_kw_args=None, inverse_func=None, kw_args=None,\n",
      "                    pass_y='deprecated', validate=False), feat_pipe__cat__cat_encoder_2=OneHotEncoder(categorical_features=None, categories='auto', drop=None,\n",
      "              dtype=<class 'numpy.uint8'>, handle_unknown='ignore',\n",
      "              n_values=None, sparse=False), feat_pipe__num__scaler=StandardScaler(copy=True, with_mean=True, with_std=True), total=   5.2s\n",
      "[CV] classifier=LogisticRegression(C=1.0, class_weight='balanced', dual=False,\n",
      "                   fit_intercept=True, intercept_scaling=1, l1_ratio=0,\n",
      "                   max_iter=1000, multi_class='warn', n_jobs=10,\n",
      "                   penalty='elasticnet', random_state=42, solver='saga',\n",
      "                   tol=0.0001, verbose=0, warm_start=False), classifier__l1_ratio=0.5, feat_pipe__cat__cat_encoder_1=FunctionTransformer(accept_sparse=False, check_inverse=True,\n",
      "                    func=<function from_cat_to_str at 0x000001E59BA580D8>,\n",
      "                    inv_kw_args=None, inverse_func=None, kw_args=None,\n",
      "                    pass_y='deprecated', validate=False), feat_pipe__cat__cat_encoder_2=OneHotEncoder(categorical_features=None, categories='auto', drop=None,\n",
      "              dtype=<class 'numpy.uint8'>, handle_unknown='ignore',\n",
      "              n_values=None, sparse=False), feat_pipe__num__scaler=StandardScaler(copy=True, with_mean=True, with_std=True) \n",
      "[CV]  classifier=LogisticRegression(C=1.0, class_weight='balanced', dual=False,\n",
      "                   fit_intercept=True, intercept_scaling=1, l1_ratio=0,\n",
      "                   max_iter=1000, multi_class='warn', n_jobs=10,\n",
      "                   penalty='elasticnet', random_state=42, solver='saga',\n",
      "                   tol=0.0001, verbose=0, warm_start=False), classifier__l1_ratio=0.5, feat_pipe__cat__cat_encoder_1=FunctionTransformer(accept_sparse=False, check_inverse=True,\n",
      "                    func=<function from_cat_to_str at 0x000001E59BA580D8>,\n",
      "                    inv_kw_args=None, inverse_func=None, kw_args=None,\n",
      "                    pass_y='deprecated', validate=False), feat_pipe__cat__cat_encoder_2=OneHotEncoder(categorical_features=None, categories='auto', drop=None,\n",
      "              dtype=<class 'numpy.uint8'>, handle_unknown='ignore',\n",
      "              n_values=None, sparse=False), feat_pipe__num__scaler=StandardScaler(copy=True, with_mean=True, with_std=True), total=  13.8s\n",
      "[CV] classifier=LogisticRegression(C=1.0, class_weight='balanced', dual=False,\n",
      "                   fit_intercept=True, intercept_scaling=1, l1_ratio=0.5,\n",
      "                   max_iter=1000, multi_class='warn', n_jobs=10,\n",
      "                   penalty='elasticnet', random_state=42, solver='saga',\n",
      "                   tol=0.0001, verbose=0, warm_start=False), classifier__l1_ratio=0.5, feat_pipe__cat__cat_encoder_1=FunctionTransformer(accept_sparse=False, check_inverse=True,\n",
      "                    func=<function from_cat_to_str at 0x000001E59BA580D8>,\n",
      "                    inv_kw_args=None, inverse_func=None, kw_args=None,\n",
      "                    pass_y='deprecated', validate=False), feat_pipe__cat__cat_encoder_2=OneHotEncoder(categorical_features=None, categories='auto', drop=None,\n",
      "              dtype=<class 'numpy.uint8'>, handle_unknown='ignore',\n",
      "              n_values=None, sparse=False), feat_pipe__num__scaler=StandardScaler(copy=True, with_mean=True, with_std=True) \n"
     ]
    },
    {
     "name": "stdout",
     "output_type": "stream",
     "text": [
      "[CV]  classifier=LogisticRegression(C=1.0, class_weight='balanced', dual=False,\n",
      "                   fit_intercept=True, intercept_scaling=1, l1_ratio=0.5,\n",
      "                   max_iter=1000, multi_class='warn', n_jobs=10,\n",
      "                   penalty='elasticnet', random_state=42, solver='saga',\n",
      "                   tol=0.0001, verbose=0, warm_start=False), classifier__l1_ratio=0.5, feat_pipe__cat__cat_encoder_1=FunctionTransformer(accept_sparse=False, check_inverse=True,\n",
      "                    func=<function from_cat_to_str at 0x000001E59BA580D8>,\n",
      "                    inv_kw_args=None, inverse_func=None, kw_args=None,\n",
      "                    pass_y='deprecated', validate=False), feat_pipe__cat__cat_encoder_2=OneHotEncoder(categorical_features=None, categories='auto', drop=None,\n",
      "              dtype=<class 'numpy.uint8'>, handle_unknown='ignore',\n",
      "              n_values=None, sparse=False), feat_pipe__num__scaler=StandardScaler(copy=True, with_mean=True, with_std=True), total=  13.8s\n",
      "[CV] classifier=LogisticRegression(C=1.0, class_weight='balanced', dual=False,\n",
      "                   fit_intercept=True, intercept_scaling=1, l1_ratio=0.5,\n",
      "                   max_iter=1000, multi_class='warn', n_jobs=10,\n",
      "                   penalty='elasticnet', random_state=42, solver='saga',\n",
      "                   tol=0.0001, verbose=0, warm_start=False), classifier__l1_ratio=0.5, feat_pipe__cat__cat_encoder_1=FunctionTransformer(accept_sparse=False, check_inverse=True,\n",
      "                    func=<function from_cat_to_str at 0x000001E59BA580D8>,\n",
      "                    inv_kw_args=None, inverse_func=None, kw_args=None,\n",
      "                    pass_y='deprecated', validate=False), feat_pipe__cat__cat_encoder_2=OneHotEncoder(categorical_features=None, categories='auto', drop=None,\n",
      "              dtype=<class 'numpy.uint8'>, handle_unknown='ignore',\n",
      "              n_values=None, sparse=False), feat_pipe__num__scaler=StandardScaler(copy=True, with_mean=True, with_std=True) \n",
      "[CV]  classifier=LogisticRegression(C=1.0, class_weight='balanced', dual=False,\n",
      "                   fit_intercept=True, intercept_scaling=1, l1_ratio=0.5,\n",
      "                   max_iter=1000, multi_class='warn', n_jobs=10,\n",
      "                   penalty='elasticnet', random_state=42, solver='saga',\n",
      "                   tol=0.0001, verbose=0, warm_start=False), classifier__l1_ratio=0.5, feat_pipe__cat__cat_encoder_1=FunctionTransformer(accept_sparse=False, check_inverse=True,\n",
      "                    func=<function from_cat_to_str at 0x000001E59BA580D8>,\n",
      "                    inv_kw_args=None, inverse_func=None, kw_args=None,\n",
      "                    pass_y='deprecated', validate=False), feat_pipe__cat__cat_encoder_2=OneHotEncoder(categorical_features=None, categories='auto', drop=None,\n",
      "              dtype=<class 'numpy.uint8'>, handle_unknown='ignore',\n",
      "              n_values=None, sparse=False), feat_pipe__num__scaler=StandardScaler(copy=True, with_mean=True, with_std=True), total=  10.1s\n",
      "[CV] classifier=LogisticRegression(C=1.0, class_weight='balanced', dual=False,\n",
      "                   fit_intercept=True, intercept_scaling=1, l1_ratio=0.5,\n",
      "                   max_iter=1000, multi_class='warn', n_jobs=10,\n",
      "                   penalty='elasticnet', random_state=42, solver='saga',\n",
      "                   tol=0.0001, verbose=0, warm_start=False), classifier__l1_ratio=0.5, feat_pipe__cat__cat_encoder_1=FunctionTransformer(accept_sparse=False, check_inverse=True,\n",
      "                    func=<function from_cat_to_str at 0x000001E59BA580D8>,\n",
      "                    inv_kw_args=None, inverse_func=None, kw_args=None,\n",
      "                    pass_y='deprecated', validate=False), feat_pipe__cat__cat_encoder_2=OneHotEncoder(categorical_features=None, categories='auto', drop=None,\n",
      "              dtype=<class 'numpy.uint8'>, handle_unknown='ignore',\n",
      "              n_values=None, sparse=False), feat_pipe__num__scaler=StandardScaler(copy=True, with_mean=True, with_std=True) \n",
      "[CV]  classifier=LogisticRegression(C=1.0, class_weight='balanced', dual=False,\n",
      "                   fit_intercept=True, intercept_scaling=1, l1_ratio=0.5,\n",
      "                   max_iter=1000, multi_class='warn', n_jobs=10,\n",
      "                   penalty='elasticnet', random_state=42, solver='saga',\n",
      "                   tol=0.0001, verbose=0, warm_start=False), classifier__l1_ratio=0.5, feat_pipe__cat__cat_encoder_1=FunctionTransformer(accept_sparse=False, check_inverse=True,\n",
      "                    func=<function from_cat_to_str at 0x000001E59BA580D8>,\n",
      "                    inv_kw_args=None, inverse_func=None, kw_args=None,\n",
      "                    pass_y='deprecated', validate=False), feat_pipe__cat__cat_encoder_2=OneHotEncoder(categorical_features=None, categories='auto', drop=None,\n",
      "              dtype=<class 'numpy.uint8'>, handle_unknown='ignore',\n",
      "              n_values=None, sparse=False), feat_pipe__num__scaler=StandardScaler(copy=True, with_mean=True, with_std=True), total=  13.2s\n",
      "[CV] classifier=LogisticRegression(C=1.0, class_weight='balanced', dual=False,\n",
      "                   fit_intercept=True, intercept_scaling=1, l1_ratio=0.5,\n",
      "                   max_iter=1000, multi_class='warn', n_jobs=10,\n",
      "                   penalty='elasticnet', random_state=42, solver='saga',\n",
      "                   tol=0.0001, verbose=0, warm_start=False), classifier__l1_ratio=0.5, feat_pipe__cat__cat_encoder_1=FunctionTransformer(accept_sparse=False, check_inverse=True,\n",
      "                    func=<function from_cat_to_str at 0x000001E59BA580D8>,\n",
      "                    inv_kw_args=None, inverse_func=None, kw_args=None,\n",
      "                    pass_y='deprecated', validate=False), feat_pipe__cat__cat_encoder_2=OneHotEncoder(categorical_features=None, categories='auto', drop=None,\n",
      "              dtype=<class 'numpy.uint8'>, handle_unknown='ignore',\n",
      "              n_values=None, sparse=False), feat_pipe__num__scaler=StandardScaler(copy=True, with_mean=True, with_std=True) \n",
      "[CV]  classifier=LogisticRegression(C=1.0, class_weight='balanced', dual=False,\n",
      "                   fit_intercept=True, intercept_scaling=1, l1_ratio=0.5,\n",
      "                   max_iter=1000, multi_class='warn', n_jobs=10,\n",
      "                   penalty='elasticnet', random_state=42, solver='saga',\n",
      "                   tol=0.0001, verbose=0, warm_start=False), classifier__l1_ratio=0.5, feat_pipe__cat__cat_encoder_1=FunctionTransformer(accept_sparse=False, check_inverse=True,\n",
      "                    func=<function from_cat_to_str at 0x000001E59BA580D8>,\n",
      "                    inv_kw_args=None, inverse_func=None, kw_args=None,\n",
      "                    pass_y='deprecated', validate=False), feat_pipe__cat__cat_encoder_2=OneHotEncoder(categorical_features=None, categories='auto', drop=None,\n",
      "              dtype=<class 'numpy.uint8'>, handle_unknown='ignore',\n",
      "              n_values=None, sparse=False), feat_pipe__num__scaler=StandardScaler(copy=True, with_mean=True, with_std=True), total=  18.4s\n",
      "[CV] classifier=LogisticRegression(C=1.0, class_weight='balanced', dual=False,\n",
      "                   fit_intercept=True, intercept_scaling=1, l1_ratio=0.5,\n",
      "                   max_iter=1000, multi_class='warn', n_jobs=10,\n",
      "                   penalty='elasticnet', random_state=42, solver='saga',\n",
      "                   tol=0.0001, verbose=0, warm_start=False), classifier__l1_ratio=1, feat_pipe__cat__cat_encoder_1=FunctionTransformer(accept_sparse=False, check_inverse=True,\n",
      "                    func=<function from_cat_to_str at 0x000001E59BA580D8>,\n",
      "                    inv_kw_args=None, inverse_func=None, kw_args=None,\n",
      "                    pass_y='deprecated', validate=False), feat_pipe__cat__cat_encoder_2=OneHotEncoder(categorical_features=None, categories='auto', drop=None,\n",
      "              dtype=<class 'numpy.uint8'>, handle_unknown='ignore',\n",
      "              n_values=None, sparse=False), feat_pipe__num__scaler=StandardScaler(copy=True, with_mean=True, with_std=True) \n",
      "[CV]  classifier=LogisticRegression(C=1.0, class_weight='balanced', dual=False,\n",
      "                   fit_intercept=True, intercept_scaling=1, l1_ratio=0.5,\n",
      "                   max_iter=1000, multi_class='warn', n_jobs=10,\n",
      "                   penalty='elasticnet', random_state=42, solver='saga',\n",
      "                   tol=0.0001, verbose=0, warm_start=False), classifier__l1_ratio=1, feat_pipe__cat__cat_encoder_1=FunctionTransformer(accept_sparse=False, check_inverse=True,\n",
      "                    func=<function from_cat_to_str at 0x000001E59BA580D8>,\n",
      "                    inv_kw_args=None, inverse_func=None, kw_args=None,\n",
      "                    pass_y='deprecated', validate=False), feat_pipe__cat__cat_encoder_2=OneHotEncoder(categorical_features=None, categories='auto', drop=None,\n",
      "              dtype=<class 'numpy.uint8'>, handle_unknown='ignore',\n",
      "              n_values=None, sparse=False), feat_pipe__num__scaler=StandardScaler(copy=True, with_mean=True, with_std=True), total=   6.2s\n",
      "[CV] classifier=LogisticRegression(C=1.0, class_weight='balanced', dual=False,\n",
      "                   fit_intercept=True, intercept_scaling=1, l1_ratio=1,\n",
      "                   max_iter=1000, multi_class='warn', n_jobs=10,\n",
      "                   penalty='elasticnet', random_state=42, solver='saga',\n",
      "                   tol=0.0001, verbose=0, warm_start=False), classifier__l1_ratio=1, feat_pipe__cat__cat_encoder_1=FunctionTransformer(accept_sparse=False, check_inverse=True,\n",
      "                    func=<function from_cat_to_str at 0x000001E59BA580D8>,\n",
      "                    inv_kw_args=None, inverse_func=None, kw_args=None,\n",
      "                    pass_y='deprecated', validate=False), feat_pipe__cat__cat_encoder_2=OneHotEncoder(categorical_features=None, categories='auto', drop=None,\n",
      "              dtype=<class 'numpy.uint8'>, handle_unknown='ignore',\n",
      "              n_values=None, sparse=False), feat_pipe__num__scaler=StandardScaler(copy=True, with_mean=True, with_std=True) \n"
     ]
    },
    {
     "name": "stdout",
     "output_type": "stream",
     "text": [
      "[CV]  classifier=LogisticRegression(C=1.0, class_weight='balanced', dual=False,\n",
      "                   fit_intercept=True, intercept_scaling=1, l1_ratio=1,\n",
      "                   max_iter=1000, multi_class='warn', n_jobs=10,\n",
      "                   penalty='elasticnet', random_state=42, solver='saga',\n",
      "                   tol=0.0001, verbose=0, warm_start=False), classifier__l1_ratio=1, feat_pipe__cat__cat_encoder_1=FunctionTransformer(accept_sparse=False, check_inverse=True,\n",
      "                    func=<function from_cat_to_str at 0x000001E59BA580D8>,\n",
      "                    inv_kw_args=None, inverse_func=None, kw_args=None,\n",
      "                    pass_y='deprecated', validate=False), feat_pipe__cat__cat_encoder_2=OneHotEncoder(categorical_features=None, categories='auto', drop=None,\n",
      "              dtype=<class 'numpy.uint8'>, handle_unknown='ignore',\n",
      "              n_values=None, sparse=False), feat_pipe__num__scaler=StandardScaler(copy=True, with_mean=True, with_std=True), total=  11.1s\n",
      "[CV] classifier=LogisticRegression(C=1.0, class_weight='balanced', dual=False,\n",
      "                   fit_intercept=True, intercept_scaling=1, l1_ratio=1,\n",
      "                   max_iter=1000, multi_class='warn', n_jobs=10,\n",
      "                   penalty='elasticnet', random_state=42, solver='saga',\n",
      "                   tol=0.0001, verbose=0, warm_start=False), classifier__l1_ratio=1, feat_pipe__cat__cat_encoder_1=FunctionTransformer(accept_sparse=False, check_inverse=True,\n",
      "                    func=<function from_cat_to_str at 0x000001E59BA580D8>,\n",
      "                    inv_kw_args=None, inverse_func=None, kw_args=None,\n",
      "                    pass_y='deprecated', validate=False), feat_pipe__cat__cat_encoder_2=OneHotEncoder(categorical_features=None, categories='auto', drop=None,\n",
      "              dtype=<class 'numpy.uint8'>, handle_unknown='ignore',\n",
      "              n_values=None, sparse=False), feat_pipe__num__scaler=StandardScaler(copy=True, with_mean=True, with_std=True) \n",
      "[CV]  classifier=LogisticRegression(C=1.0, class_weight='balanced', dual=False,\n",
      "                   fit_intercept=True, intercept_scaling=1, l1_ratio=1,\n",
      "                   max_iter=1000, multi_class='warn', n_jobs=10,\n",
      "                   penalty='elasticnet', random_state=42, solver='saga',\n",
      "                   tol=0.0001, verbose=0, warm_start=False), classifier__l1_ratio=1, feat_pipe__cat__cat_encoder_1=FunctionTransformer(accept_sparse=False, check_inverse=True,\n",
      "                    func=<function from_cat_to_str at 0x000001E59BA580D8>,\n",
      "                    inv_kw_args=None, inverse_func=None, kw_args=None,\n",
      "                    pass_y='deprecated', validate=False), feat_pipe__cat__cat_encoder_2=OneHotEncoder(categorical_features=None, categories='auto', drop=None,\n",
      "              dtype=<class 'numpy.uint8'>, handle_unknown='ignore',\n",
      "              n_values=None, sparse=False), feat_pipe__num__scaler=StandardScaler(copy=True, with_mean=True, with_std=True), total=   7.0s\n",
      "[CV] classifier=LogisticRegression(C=1.0, class_weight='balanced', dual=False,\n",
      "                   fit_intercept=True, intercept_scaling=1, l1_ratio=1,\n",
      "                   max_iter=1000, multi_class='warn', n_jobs=10,\n",
      "                   penalty='elasticnet', random_state=42, solver='saga',\n",
      "                   tol=0.0001, verbose=0, warm_start=False), classifier__l1_ratio=1, feat_pipe__cat__cat_encoder_1=FunctionTransformer(accept_sparse=False, check_inverse=True,\n",
      "                    func=<function from_cat_to_str at 0x000001E59BA580D8>,\n",
      "                    inv_kw_args=None, inverse_func=None, kw_args=None,\n",
      "                    pass_y='deprecated', validate=False), feat_pipe__cat__cat_encoder_2=OneHotEncoder(categorical_features=None, categories='auto', drop=None,\n",
      "              dtype=<class 'numpy.uint8'>, handle_unknown='ignore',\n",
      "              n_values=None, sparse=False), feat_pipe__num__scaler=StandardScaler(copy=True, with_mean=True, with_std=True) \n",
      "[CV]  classifier=LogisticRegression(C=1.0, class_weight='balanced', dual=False,\n",
      "                   fit_intercept=True, intercept_scaling=1, l1_ratio=1,\n",
      "                   max_iter=1000, multi_class='warn', n_jobs=10,\n",
      "                   penalty='elasticnet', random_state=42, solver='saga',\n",
      "                   tol=0.0001, verbose=0, warm_start=False), classifier__l1_ratio=1, feat_pipe__cat__cat_encoder_1=FunctionTransformer(accept_sparse=False, check_inverse=True,\n",
      "                    func=<function from_cat_to_str at 0x000001E59BA580D8>,\n",
      "                    inv_kw_args=None, inverse_func=None, kw_args=None,\n",
      "                    pass_y='deprecated', validate=False), feat_pipe__cat__cat_encoder_2=OneHotEncoder(categorical_features=None, categories='auto', drop=None,\n",
      "              dtype=<class 'numpy.uint8'>, handle_unknown='ignore',\n",
      "              n_values=None, sparse=False), feat_pipe__num__scaler=StandardScaler(copy=True, with_mean=True, with_std=True), total=   7.8s\n",
      "[CV] classifier=LogisticRegression(C=1.0, class_weight='balanced', dual=False,\n",
      "                   fit_intercept=True, intercept_scaling=1, l1_ratio=1,\n",
      "                   max_iter=1000, multi_class='warn', n_jobs=10,\n",
      "                   penalty='elasticnet', random_state=42, solver='saga',\n",
      "                   tol=0.0001, verbose=0, warm_start=False), classifier__l1_ratio=1, feat_pipe__cat__cat_encoder_1=FunctionTransformer(accept_sparse=False, check_inverse=True,\n",
      "                    func=<function from_cat_to_str at 0x000001E59BA580D8>,\n",
      "                    inv_kw_args=None, inverse_func=None, kw_args=None,\n",
      "                    pass_y='deprecated', validate=False), feat_pipe__cat__cat_encoder_2=OneHotEncoder(categorical_features=None, categories='auto', drop=None,\n",
      "              dtype=<class 'numpy.uint8'>, handle_unknown='ignore',\n",
      "              n_values=None, sparse=False), feat_pipe__num__scaler=StandardScaler(copy=True, with_mean=True, with_std=True) \n",
      "[CV]  classifier=LogisticRegression(C=1.0, class_weight='balanced', dual=False,\n",
      "                   fit_intercept=True, intercept_scaling=1, l1_ratio=1,\n",
      "                   max_iter=1000, multi_class='warn', n_jobs=10,\n",
      "                   penalty='elasticnet', random_state=42, solver='saga',\n",
      "                   tol=0.0001, verbose=0, warm_start=False), classifier__l1_ratio=1, feat_pipe__cat__cat_encoder_1=FunctionTransformer(accept_sparse=False, check_inverse=True,\n",
      "                    func=<function from_cat_to_str at 0x000001E59BA580D8>,\n",
      "                    inv_kw_args=None, inverse_func=None, kw_args=None,\n",
      "                    pass_y='deprecated', validate=False), feat_pipe__cat__cat_encoder_2=OneHotEncoder(categorical_features=None, categories='auto', drop=None,\n",
      "              dtype=<class 'numpy.uint8'>, handle_unknown='ignore',\n",
      "              n_values=None, sparse=False), feat_pipe__num__scaler=StandardScaler(copy=True, with_mean=True, with_std=True), total=   8.6s\n"
     ]
    },
    {
     "name": "stderr",
     "output_type": "stream",
     "text": [
      "[Parallel(n_jobs=1)]: Done  15 out of  15 | elapsed:  2.4min finished\n"
     ]
    },
    {
     "data": {
      "text/plain": [
       "GridSearchCV(cv=StratifiedKFold(n_splits=5, random_state=42, shuffle=True),\n",
       "             error_score='raise-deprecating',\n",
       "             estimator=Pipeline(memory=None,\n",
       "                                steps=[('feat_pipe',\n",
       "                                        ColumnTransformer(n_jobs=None,\n",
       "                                                          remainder='drop',\n",
       "                                                          sparse_threshold=0.3,\n",
       "                                                          transformer_weights=None,\n",
       "                                                          transformers=[('cat',\n",
       "                                                                         Pipeline(memory=None,\n",
       "                                                                                  steps=[('cat_imputer',\n",
       "                                                                                          SimpleImputer(add_indicator=False,\n",
       "                                                                                                        cop...\n",
       "                          'feat_pipe__cat__cat_encoder_2': [OneHotEncoder(categorical_features=None,\n",
       "                                                                          categories='auto',\n",
       "                                                                          drop=None,\n",
       "                                                                          dtype=<class 'numpy.uint8'>,\n",
       "                                                                          handle_unknown='ignore',\n",
       "                                                                          n_values=None,\n",
       "                                                                          sparse=False)],\n",
       "                          'feat_pipe__num__scaler': [StandardScaler(copy=True,\n",
       "                                                                    with_mean=True,\n",
       "                                                                    with_std=True)]}],\n",
       "             pre_dispatch='2*n_jobs', refit=True, return_train_score=True,\n",
       "             scoring=make_scorer(ks_stat, needs_proba=True), verbose=2)"
      ]
     },
     "execution_count": 601,
     "metadata": {},
     "output_type": "execute_result"
    }
   ],
   "source": [
    "param_grid = [\n",
    "# #     Logistic regression\n",
    "    {\n",
    "        'feat_pipe__num__scaler': [StandardScaler()],\n",
    "        'feat_pipe__cat__cat_encoder_1': [from_cat_to_str_transformer],\n",
    "        'feat_pipe__cat__cat_encoder_2': [OneHotEncoder(sparse=False, categories='auto', handle_unknown='ignore', dtype=np.uint8)],\n",
    "        'classifier': [LogisticRegression(random_state=random_state_global, max_iter=1000, penalty='elasticnet',\n",
    "                                          solver='saga',class_weight='balanced', n_jobs=10)],\n",
    "        'classifier__l1_ratio': [0, 0.5, 1]\n",
    "    }\n",
    ",\n",
    "#     Random Forest\n",
    "\n",
    "#      {\n",
    "#          'feat_pipe__num__scaler': [None],\n",
    "#          'feat_pipe__cat__cat_encoder_1': [None],\n",
    "#          'feat_pipe__cat__cat_encoder_2': [OneHotEncoder(sparse=False, categories='auto', handle_unknown='ignore', dtype=np.uint8)],\n",
    "#          'classifier': [RandomForestClassifier(n_jobs=10, n_estimators=500)],\n",
    "#          'classifier__class_weight': ['balanced', 'balanced_subsample']\n",
    "#     }\n",
    "]\n",
    "    \n",
    "param_grid\n",
    "gs = GridSearchCV(cv=kf, param_grid=param_grid, estimator=clf, n_jobs=1, scoring=ks_scorer, verbose=2, return_train_score=True)\n",
    "gs.fit(X_train, y_train)"
   ]
  },
  {
   "cell_type": "code",
   "execution_count": 641,
   "metadata": {
    "ExecuteTime": {
     "end_time": "2019-08-14T05:53:20.932185Z",
     "start_time": "2019-08-14T05:53:20.927181Z"
    }
   },
   "outputs": [
    {
     "data": {
      "text/plain": [
       "{'classifier': LogisticRegression(C=1.0, class_weight='balanced', dual=False,\n",
       "                    fit_intercept=True, intercept_scaling=1, l1_ratio=1,\n",
       "                    max_iter=1000, multi_class='warn', n_jobs=10,\n",
       "                    penalty='elasticnet', random_state=42, solver='saga',\n",
       "                    tol=0.0001, verbose=0, warm_start=False),\n",
       " 'classifier__l1_ratio': 1,\n",
       " 'feat_pipe__cat__cat_encoder_1': FunctionTransformer(accept_sparse=False, check_inverse=True,\n",
       "                     func=<function from_cat_to_str at 0x000001E59BA580D8>,\n",
       "                     inv_kw_args=None, inverse_func=None, kw_args=None,\n",
       "                     pass_y='deprecated', validate=False),\n",
       " 'feat_pipe__cat__cat_encoder_2': OneHotEncoder(categorical_features=None, categories='auto', drop=None,\n",
       "               dtype=<class 'numpy.uint8'>, handle_unknown='ignore',\n",
       "               n_values=None, sparse=False),\n",
       " 'feat_pipe__num__scaler': StandardScaler(copy=True, with_mean=True, with_std=True)}"
      ]
     },
     "execution_count": 641,
     "metadata": {},
     "output_type": "execute_result"
    }
   ],
   "source": [
    "gs.best_params_"
   ]
  },
  {
   "cell_type": "code",
   "execution_count": 649,
   "metadata": {
    "ExecuteTime": {
     "end_time": "2019-08-14T05:54:31.731672Z",
     "start_time": "2019-08-14T05:54:31.703650Z"
    }
   },
   "outputs": [
    {
     "data": {
      "text/plain": [
       "Pipeline(memory=None,\n",
       "         steps=[('feat_pipe',\n",
       "                 ColumnTransformer(n_jobs=None, remainder='drop',\n",
       "                                   sparse_threshold=0.3,\n",
       "                                   transformer_weights=None,\n",
       "                                   transformers=[('cat',\n",
       "                                                  Pipeline(memory=None,\n",
       "                                                           steps=[('cat_imputer',\n",
       "                                                                   SimpleImputer(add_indicator=False,\n",
       "                                                                                 copy=True,\n",
       "                                                                                 fill_value='cat_missing',\n",
       "                                                                                 missing_values=nan,\n",
       "                                                                                 strategy='constant',\n",
       "                                                                                 verbose=0)),\n",
       "                                                                  ('cat_encoder_1',\n",
       "                                                                   FunctionTransfo...\n",
       "                                                   'cons_price_idx',\n",
       "                                                   'cons_conf_idx', 'euribor3m',\n",
       "                                                   'nr_employed'])],\n",
       "                                   verbose=False)),\n",
       "                ('classifier',\n",
       "                 LogisticRegression(C=1.0, class_weight='balanced', dual=False,\n",
       "                                    fit_intercept=True, intercept_scaling=1,\n",
       "                                    l1_ratio=1, max_iter=1000,\n",
       "                                    multi_class='warn', n_jobs=10,\n",
       "                                    penalty='elasticnet', random_state=42,\n",
       "                                    solver='saga', tol=0.0001, verbose=0,\n",
       "                                    warm_start=False))],\n",
       "         verbose=False)"
      ]
     },
     "execution_count": 649,
     "metadata": {},
     "output_type": "execute_result"
    }
   ],
   "source": [
    "gs.estimator.set_params(**gs.best_params_)"
   ]
  },
  {
   "cell_type": "code",
   "execution_count": 655,
   "metadata": {
    "ExecuteTime": {
     "end_time": "2019-08-14T05:55:30.788397Z",
     "start_time": "2019-08-14T05:55:30.775394Z"
    }
   },
   "outputs": [
    {
     "data": {
      "text/plain": [
       "{'mean_fit_time': array([ 5.323034  , 13.75394874,  7.99674449]),\n",
       " 'std_fit_time': array([0.47139887, 2.64847781, 1.68242016]),\n",
       " 'mean_score_time': array([0.14433866, 0.14370584, 0.14295053]),\n",
       " 'std_score_time': array([0.00264282, 0.00188425, 0.00360369]),\n",
       " 'param_classifier': masked_array(data=[LogisticRegression(C=1.0, class_weight='balanced', dual=False,\n",
       "                    fit_intercept=True, intercept_scaling=1, l1_ratio=1,\n",
       "                    max_iter=1000, multi_class='warn', n_jobs=10,\n",
       "                    penalty='elasticnet', random_state=42, solver='saga',\n",
       "                    tol=0.0001, verbose=0, warm_start=False),\n",
       "                    LogisticRegression(C=1.0, class_weight='balanced', dual=False,\n",
       "                    fit_intercept=True, intercept_scaling=1, l1_ratio=1,\n",
       "                    max_iter=1000, multi_class='warn', n_jobs=10,\n",
       "                    penalty='elasticnet', random_state=42, solver='saga',\n",
       "                    tol=0.0001, verbose=0, warm_start=False),\n",
       "                    LogisticRegression(C=1.0, class_weight='balanced', dual=False,\n",
       "                    fit_intercept=True, intercept_scaling=1, l1_ratio=1,\n",
       "                    max_iter=1000, multi_class='warn', n_jobs=10,\n",
       "                    penalty='elasticnet', random_state=42, solver='saga',\n",
       "                    tol=0.0001, verbose=0, warm_start=False)],\n",
       "              mask=[False, False, False],\n",
       "        fill_value='?',\n",
       "             dtype=object),\n",
       " 'param_classifier__l1_ratio': masked_array(data=[0, 0.5, 1],\n",
       "              mask=[False, False, False],\n",
       "        fill_value='?',\n",
       "             dtype=object),\n",
       " 'param_feat_pipe__cat__cat_encoder_1': masked_array(data=[FunctionTransformer(accept_sparse=False, check_inverse=True,\n",
       "                     func=<function from_cat_to_str at 0x000001E59BA580D8>,\n",
       "                     inv_kw_args=None, inverse_func=None, kw_args=None,\n",
       "                     pass_y='deprecated', validate=False),\n",
       "                    FunctionTransformer(accept_sparse=False, check_inverse=True,\n",
       "                     func=<function from_cat_to_str at 0x000001E59BA580D8>,\n",
       "                     inv_kw_args=None, inverse_func=None, kw_args=None,\n",
       "                     pass_y='deprecated', validate=False),\n",
       "                    FunctionTransformer(accept_sparse=False, check_inverse=True,\n",
       "                     func=<function from_cat_to_str at 0x000001E59BA580D8>,\n",
       "                     inv_kw_args=None, inverse_func=None, kw_args=None,\n",
       "                     pass_y='deprecated', validate=False)],\n",
       "              mask=[False, False, False],\n",
       "        fill_value='?',\n",
       "             dtype=object),\n",
       " 'param_feat_pipe__cat__cat_encoder_2': masked_array(data=[OneHotEncoder(categorical_features=None, categories='auto', drop=None,\n",
       "               dtype=<class 'numpy.uint8'>, handle_unknown='ignore',\n",
       "               n_values=None, sparse=False),\n",
       "                    OneHotEncoder(categorical_features=None, categories='auto', drop=None,\n",
       "               dtype=<class 'numpy.uint8'>, handle_unknown='ignore',\n",
       "               n_values=None, sparse=False),\n",
       "                    OneHotEncoder(categorical_features=None, categories='auto', drop=None,\n",
       "               dtype=<class 'numpy.uint8'>, handle_unknown='ignore',\n",
       "               n_values=None, sparse=False)],\n",
       "              mask=[False, False, False],\n",
       "        fill_value='?',\n",
       "             dtype=object),\n",
       " 'param_feat_pipe__num__scaler': masked_array(data=[StandardScaler(copy=True, with_mean=True, with_std=True),\n",
       "                    StandardScaler(copy=True, with_mean=True, with_std=True),\n",
       "                    StandardScaler(copy=True, with_mean=True, with_std=True)],\n",
       "              mask=[False, False, False],\n",
       "        fill_value='?',\n",
       "             dtype=object),\n",
       " 'params': [{'classifier': LogisticRegression(C=1.0, class_weight='balanced', dual=False,\n",
       "                      fit_intercept=True, intercept_scaling=1, l1_ratio=1,\n",
       "                      max_iter=1000, multi_class='warn', n_jobs=10,\n",
       "                      penalty='elasticnet', random_state=42, solver='saga',\n",
       "                      tol=0.0001, verbose=0, warm_start=False),\n",
       "   'classifier__l1_ratio': 0,\n",
       "   'feat_pipe__cat__cat_encoder_1': FunctionTransformer(accept_sparse=False, check_inverse=True,\n",
       "                       func=<function from_cat_to_str at 0x000001E59BA580D8>,\n",
       "                       inv_kw_args=None, inverse_func=None, kw_args=None,\n",
       "                       pass_y='deprecated', validate=False),\n",
       "   'feat_pipe__cat__cat_encoder_2': OneHotEncoder(categorical_features=None, categories='auto', drop=None,\n",
       "                 dtype=<class 'numpy.uint8'>, handle_unknown='ignore',\n",
       "                 n_values=None, sparse=False),\n",
       "   'feat_pipe__num__scaler': StandardScaler(copy=True, with_mean=True, with_std=True)},\n",
       "  {'classifier': LogisticRegression(C=1.0, class_weight='balanced', dual=False,\n",
       "                      fit_intercept=True, intercept_scaling=1, l1_ratio=1,\n",
       "                      max_iter=1000, multi_class='warn', n_jobs=10,\n",
       "                      penalty='elasticnet', random_state=42, solver='saga',\n",
       "                      tol=0.0001, verbose=0, warm_start=False),\n",
       "   'classifier__l1_ratio': 0.5,\n",
       "   'feat_pipe__cat__cat_encoder_1': FunctionTransformer(accept_sparse=False, check_inverse=True,\n",
       "                       func=<function from_cat_to_str at 0x000001E59BA580D8>,\n",
       "                       inv_kw_args=None, inverse_func=None, kw_args=None,\n",
       "                       pass_y='deprecated', validate=False),\n",
       "   'feat_pipe__cat__cat_encoder_2': OneHotEncoder(categorical_features=None, categories='auto', drop=None,\n",
       "                 dtype=<class 'numpy.uint8'>, handle_unknown='ignore',\n",
       "                 n_values=None, sparse=False),\n",
       "   'feat_pipe__num__scaler': StandardScaler(copy=True, with_mean=True, with_std=True)},\n",
       "  {'classifier': LogisticRegression(C=1.0, class_weight='balanced', dual=False,\n",
       "                      fit_intercept=True, intercept_scaling=1, l1_ratio=1,\n",
       "                      max_iter=1000, multi_class='warn', n_jobs=10,\n",
       "                      penalty='elasticnet', random_state=42, solver='saga',\n",
       "                      tol=0.0001, verbose=0, warm_start=False),\n",
       "   'classifier__l1_ratio': 1,\n",
       "   'feat_pipe__cat__cat_encoder_1': FunctionTransformer(accept_sparse=False, check_inverse=True,\n",
       "                       func=<function from_cat_to_str at 0x000001E59BA580D8>,\n",
       "                       inv_kw_args=None, inverse_func=None, kw_args=None,\n",
       "                       pass_y='deprecated', validate=False),\n",
       "   'feat_pipe__cat__cat_encoder_2': OneHotEncoder(categorical_features=None, categories='auto', drop=None,\n",
       "                 dtype=<class 'numpy.uint8'>, handle_unknown='ignore',\n",
       "                 n_values=None, sparse=False),\n",
       "   'feat_pipe__num__scaler': StandardScaler(copy=True, with_mean=True, with_std=True)}],\n",
       " 'split0_test_score': array([0.77204496, 0.77272884, 0.77255787]),\n",
       " 'split1_test_score': array([0.75925871, 0.76009533, 0.75958242]),\n",
       " 'split2_test_score': array([0.76361277, 0.76360147, 0.76377244]),\n",
       " 'split3_test_score': array([0.76146308, 0.76112114, 0.76212873]),\n",
       " 'split4_test_score': array([0.75241993, 0.75207799, 0.75257267]),\n",
       " 'mean_test_score': array([0.76175989, 0.76192495, 0.76212283]),\n",
       " 'std_test_score': array([0.00636859, 0.00664065, 0.00646947]),\n",
       " 'rank_test_score': array([3, 2, 1]),\n",
       " 'split0_train_score': array([0.76020925, 0.76026111, 0.76035069]),\n",
       " 'split1_train_score': array([0.76266616, 0.76262341, 0.76219599]),\n",
       " 'split2_train_score': array([0.76199249, 0.76208536, 0.76202894]),\n",
       " 'split3_train_score': array([0.76277442, 0.76310725, 0.76306451]),\n",
       " 'split4_train_score': array([0.76682301, 0.76665204, 0.76715128]),\n",
       " 'mean_train_score': array([0.76289307, 0.76294583, 0.76295828]),\n",
       " 'std_train_score': array([0.00216905, 0.00208874, 0.00227318])}"
      ]
     },
     "execution_count": 655,
     "metadata": {},
     "output_type": "execute_result"
    }
   ],
   "source": [
    "gs.cv_results_"
   ]
  },
  {
   "cell_type": "code",
   "execution_count": 652,
   "metadata": {
    "ExecuteTime": {
     "end_time": "2019-08-14T05:55:16.364061Z",
     "start_time": "2019-08-14T05:55:16.102826Z"
    }
   },
   "outputs": [
    {
     "data": {
      "text/plain": [
       "0.7626890325093346"
      ]
     },
     "execution_count": 652,
     "metadata": {},
     "output_type": "execute_result"
    }
   ],
   "source": [
    "ks_stat(y_train, gs.predict_proba(X_train)[:,1])"
   ]
  },
  {
   "cell_type": "code",
   "execution_count": 654,
   "metadata": {
    "ExecuteTime": {
     "end_time": "2019-08-14T05:55:22.678419Z",
     "start_time": "2019-08-14T05:55:22.495699Z"
    }
   },
   "outputs": [
    {
     "data": {
      "text/plain": [
       "0.7523691457836169"
      ]
     },
     "execution_count": 654,
     "metadata": {},
     "output_type": "execute_result"
    }
   ],
   "source": [
    "ks_stat(y_test, gs.predict_proba(X_test)[:,1])"
   ]
  },
  {
   "cell_type": "code",
   "execution_count": 605,
   "metadata": {
    "ExecuteTime": {
     "end_time": "2019-08-14T05:44:52.685060Z",
     "start_time": "2019-08-14T05:44:52.682057Z"
    }
   },
   "outputs": [],
   "source": [
    "from sklearn.preprocessing import KBinsDiscretizer"
   ]
  },
  {
   "cell_type": "code",
   "execution_count": 656,
   "metadata": {
    "ExecuteTime": {
     "end_time": "2019-08-14T05:55:56.344934Z",
     "start_time": "2019-08-14T05:55:55.935554Z"
    }
   },
   "outputs": [
    {
     "data": {
      "text/plain": [
       "(array([17669.,  3783.,  1834.,  1231.,  1000.,  1038.,  1129.,  1151.,\n",
       "         1353.,  2762.]),\n",
       " array([0.00241242, 0.10217118, 0.20192994, 0.3016887 , 0.40144745,\n",
       "        0.50120621, 0.60096497, 0.70072373, 0.80048248, 0.90024124,\n",
       "        1.        ]),\n",
       " <a list of 10 Patch objects>)"
      ]
     },
     "execution_count": 656,
     "metadata": {},
     "output_type": "execute_result"
    },
    {
     "data": {
      "image/png": "[encoded data removed]",
      "text/plain": [
       "<Figure size 432x288 with 1 Axes>"
      ]
     },
     "metadata": {
      "needs_background": "light"
     },
     "output_type": "display_data"
    }
   ],
   "source": [
    "plt.hist(gs.predict_proba(X_train)[:,1])"
   ]
  },
  {
   "cell_type": "code",
   "execution_count": 660,
   "metadata": {
    "ExecuteTime": {
     "end_time": "2019-08-14T05:57:06.148027Z",
     "start_time": "2019-08-14T05:57:05.743637Z"
    }
   },
   "outputs": [
    {
     "data": {
      "text/plain": [
       "(array([3295., 3295., 3295., 3295., 3295., 3295., 3295., 3295., 3295.,\n",
       "        3295.]),\n",
       " array([ 0. ,  9.9, 19.8, 29.7, 39.6, 49.5, 59.4, 69.3, 79.2, 89.1, 99. ]),\n",
       " <a list of 10 Patch objects>)"
      ]
     },
     "execution_count": 660,
     "metadata": {},
     "output_type": "execute_result"
    },
    {
     "data": {
      "image/png": "[encoded data removed]",
      "text/plain": [
       "<Figure size 432x288 with 1 Axes>"
      ]
     },
     "metadata": {
      "needs_background": "light"
     },
     "output_type": "display_data"
    }
   ],
   "source": [
    "binner = KBinsDiscretizer(n_bins=100, encode='ordinal', strategy='quantile')\n",
    "plt.hist(binner.fit_transform(gs.predict_proba(X_train)[:,1].reshape(-1,1)))"
   ]
  },
  {
   "cell_type": "code",
   "execution_count": 661,
   "metadata": {
    "ExecuteTime": {
     "end_time": "2019-08-14T05:57:10.317327Z",
     "start_time": "2019-08-14T05:57:09.911527Z"
    }
   },
   "outputs": [
    {
     "data": {
      "text/plain": [
       "(array([17669.,  3783.,  1834.,  1231.,  1000.,  1037.,  1130.,  1151.,\n",
       "         1353.,  2762.]),\n",
       " array([ 0. ,  9.9, 19.8, 29.7, 39.6, 49.5, 59.4, 69.3, 79.2, 89.1, 99. ]),\n",
       " <a list of 10 Patch objects>)"
      ]
     },
     "execution_count": 661,
     "metadata": {},
     "output_type": "execute_result"
    },
    {
     "data": {
      "image/png": "[encoded data removed]",
      "text/plain": [
       "<Figure size 432x288 with 1 Axes>"
      ]
     },
     "metadata": {
      "needs_background": "light"
     },
     "output_type": "display_data"
    }
   ],
   "source": [
    "binner = KBinsDiscretizer(n_bins=100, encode='ordinal', strategy='uniform')\n",
    "plt.hist(binner.fit_transform(gs.predict_proba(X_train)[:,1].reshape(-1,1)))"
   ]
  },
  {
   "cell_type": "code",
   "execution_count": 680,
   "metadata": {
    "ExecuteTime": {
     "end_time": "2019-08-14T06:00:56.531498Z",
     "start_time": "2019-08-14T06:00:55.783360Z"
    }
   },
   "outputs": [
    {
     "data": {
      "text/plain": [
       "(array([12805.,  5955.,  2847.,  1866.,  1447.,  1317.,  1426.,  1397.,\n",
       "         1524.,  2366.]),\n",
       " array([0. , 0.9, 1.8, 2.7, 3.6, 4.5, 5.4, 6.3, 7.2, 8.1, 9. ]),\n",
       " <a list of 10 Patch objects>)"
      ]
     },
     "execution_count": 680,
     "metadata": {},
     "output_type": "execute_result"
    },
    {
     "data": {
      "image/png": "[encoded data removed]",
      "text/plain": [
       "<Figure size 432x288 with 1 Axes>"
      ]
     },
     "metadata": {
      "needs_background": "light"
     },
     "output_type": "display_data"
    }
   ],
   "source": [
    "binner = KBinsDiscretizer(n_bins=10, encode='ordinal', strategy='kmeans')\n",
    "plt.hist(binner.fit_transform(gs.predict_proba(X_train)[:,1].reshape(-1,1)))"
   ]
  },
  {
   "cell_type": "code",
   "execution_count": 683,
   "metadata": {
    "ExecuteTime": {
     "end_time": "2019-08-14T06:01:20.353005Z",
     "start_time": "2019-08-14T06:01:19.751451Z"
    }
   },
   "outputs": [
    {
     "data": {
      "text/plain": [
       "array([[0.],\n",
       "       [1.],\n",
       "       [0.],\n",
       "       ...,\n",
       "       [9.],\n",
       "       [1.],\n",
       "       [3.]])"
      ]
     },
     "execution_count": 683,
     "metadata": {},
     "output_type": "execute_result"
    }
   ],
   "source": [
    "binner.fit_transform(gs.predict_proba(X_train)[:,1].reshape(-1,1))"
   ]
  },
  {
   "cell_type": "code",
   "execution_count": null,
   "metadata": {
    "ExecuteTime": {
     "start_time": "2019-08-14T06:01:34.566Z"
    }
   },
   "outputs": [],
   "source": [
    "sns.barplot(x=gs.predict_proba(X_train)[:,1],\n",
    "            y=binner.fit_transform(gs.predict_proba(X_train)[:,1].reshape(-1,1)).ravel())"
   ]
  },
  {
   "cell_type": "code",
   "execution_count": 667,
   "metadata": {
    "ExecuteTime": {
     "end_time": "2019-08-14T05:58:37.524008Z",
     "start_time": "2019-08-14T05:58:36.718792Z"
    }
   },
   "outputs": [
    {
     "data": {
      "text/plain": [
       "<matplotlib.axes._subplots.AxesSubplot at 0x1e59e7e0888>"
      ]
     },
     "execution_count": 667,
     "metadata": {},
     "output_type": "execute_result"
    },
    {
     "data": {
      "image/png": "[encoded data removed]",
      "text/plain": [
       "<Figure size 432x288 with 1 Axes>"
      ]
     },
     "metadata": {
      "needs_background": "light"
     },
     "output_type": "display_data"
    }
   ],
   "source": [
    "sns.distplot(gs.predict_proba(X_train)[:,1].reshape(-1,1))"
   ]
  },
  {
   "cell_type": "code",
   "execution_count": 609,
   "metadata": {
    "ExecuteTime": {
     "end_time": "2019-08-14T05:44:56.034420Z",
     "start_time": "2019-08-14T05:44:56.021408Z"
    }
   },
   "outputs": [
    {
     "data": {
      "text/plain": [
       "{'mean_fit_time': array([ 5.323034  , 13.75394874,  7.99674449]),\n",
       " 'std_fit_time': array([0.47139887, 2.64847781, 1.68242016]),\n",
       " 'mean_score_time': array([0.14433866, 0.14370584, 0.14295053]),\n",
       " 'std_score_time': array([0.00264282, 0.00188425, 0.00360369]),\n",
       " 'param_classifier': masked_array(data=[LogisticRegression(C=1.0, class_weight='balanced', dual=False,\n",
       "                    fit_intercept=True, intercept_scaling=1, l1_ratio=1,\n",
       "                    max_iter=1000, multi_class='warn', n_jobs=10,\n",
       "                    penalty='elasticnet', random_state=42, solver='saga',\n",
       "                    tol=0.0001, verbose=0, warm_start=False),\n",
       "                    LogisticRegression(C=1.0, class_weight='balanced', dual=False,\n",
       "                    fit_intercept=True, intercept_scaling=1, l1_ratio=1,\n",
       "                    max_iter=1000, multi_class='warn', n_jobs=10,\n",
       "                    penalty='elasticnet', random_state=42, solver='saga',\n",
       "                    tol=0.0001, verbose=0, warm_start=False),\n",
       "                    LogisticRegression(C=1.0, class_weight='balanced', dual=False,\n",
       "                    fit_intercept=True, intercept_scaling=1, l1_ratio=1,\n",
       "                    max_iter=1000, multi_class='warn', n_jobs=10,\n",
       "                    penalty='elasticnet', random_state=42, solver='saga',\n",
       "                    tol=0.0001, verbose=0, warm_start=False)],\n",
       "              mask=[False, False, False],\n",
       "        fill_value='?',\n",
       "             dtype=object),\n",
       " 'param_classifier__l1_ratio': masked_array(data=[0, 0.5, 1],\n",
       "              mask=[False, False, False],\n",
       "        fill_value='?',\n",
       "             dtype=object),\n",
       " 'param_feat_pipe__cat__cat_encoder_1': masked_array(data=[FunctionTransformer(accept_sparse=False, check_inverse=True,\n",
       "                     func=<function from_cat_to_str at 0x000001E59BA580D8>,\n",
       "                     inv_kw_args=None, inverse_func=None, kw_args=None,\n",
       "                     pass_y='deprecated', validate=False),\n",
       "                    FunctionTransformer(accept_sparse=False, check_inverse=True,\n",
       "                     func=<function from_cat_to_str at 0x000001E59BA580D8>,\n",
       "                     inv_kw_args=None, inverse_func=None, kw_args=None,\n",
       "                     pass_y='deprecated', validate=False),\n",
       "                    FunctionTransformer(accept_sparse=False, check_inverse=True,\n",
       "                     func=<function from_cat_to_str at 0x000001E59BA580D8>,\n",
       "                     inv_kw_args=None, inverse_func=None, kw_args=None,\n",
       "                     pass_y='deprecated', validate=False)],\n",
       "              mask=[False, False, False],\n",
       "        fill_value='?',\n",
       "             dtype=object),\n",
       " 'param_feat_pipe__cat__cat_encoder_2': masked_array(data=[OneHotEncoder(categorical_features=None, categories='auto', drop=None,\n",
       "               dtype=<class 'numpy.uint8'>, handle_unknown='ignore',\n",
       "               n_values=None, sparse=False),\n",
       "                    OneHotEncoder(categorical_features=None, categories='auto', drop=None,\n",
       "               dtype=<class 'numpy.uint8'>, handle_unknown='ignore',\n",
       "               n_values=None, sparse=False),\n",
       "                    OneHotEncoder(categorical_features=None, categories='auto', drop=None,\n",
       "               dtype=<class 'numpy.uint8'>, handle_unknown='ignore',\n",
       "               n_values=None, sparse=False)],\n",
       "              mask=[False, False, False],\n",
       "        fill_value='?',\n",
       "             dtype=object),\n",
       " 'param_feat_pipe__num__scaler': masked_array(data=[StandardScaler(copy=True, with_mean=True, with_std=True),\n",
       "                    StandardScaler(copy=True, with_mean=True, with_std=True),\n",
       "                    StandardScaler(copy=True, with_mean=True, with_std=True)],\n",
       "              mask=[False, False, False],\n",
       "        fill_value='?',\n",
       "             dtype=object),\n",
       " 'params': [{'classifier': LogisticRegression(C=1.0, class_weight='balanced', dual=False,\n",
       "                      fit_intercept=True, intercept_scaling=1, l1_ratio=1,\n",
       "                      max_iter=1000, multi_class='warn', n_jobs=10,\n",
       "                      penalty='elasticnet', random_state=42, solver='saga',\n",
       "                      tol=0.0001, verbose=0, warm_start=False),\n",
       "   'classifier__l1_ratio': 0,\n",
       "   'feat_pipe__cat__cat_encoder_1': FunctionTransformer(accept_sparse=False, check_inverse=True,\n",
       "                       func=<function from_cat_to_str at 0x000001E59BA580D8>,\n",
       "                       inv_kw_args=None, inverse_func=None, kw_args=None,\n",
       "                       pass_y='deprecated', validate=False),\n",
       "   'feat_pipe__cat__cat_encoder_2': OneHotEncoder(categorical_features=None, categories='auto', drop=None,\n",
       "                 dtype=<class 'numpy.uint8'>, handle_unknown='ignore',\n",
       "                 n_values=None, sparse=False),\n",
       "   'feat_pipe__num__scaler': StandardScaler(copy=True, with_mean=True, with_std=True)},\n",
       "  {'classifier': LogisticRegression(C=1.0, class_weight='balanced', dual=False,\n",
       "                      fit_intercept=True, intercept_scaling=1, l1_ratio=1,\n",
       "                      max_iter=1000, multi_class='warn', n_jobs=10,\n",
       "                      penalty='elasticnet', random_state=42, solver='saga',\n",
       "                      tol=0.0001, verbose=0, warm_start=False),\n",
       "   'classifier__l1_ratio': 0.5,\n",
       "   'feat_pipe__cat__cat_encoder_1': FunctionTransformer(accept_sparse=False, check_inverse=True,\n",
       "                       func=<function from_cat_to_str at 0x000001E59BA580D8>,\n",
       "                       inv_kw_args=None, inverse_func=None, kw_args=None,\n",
       "                       pass_y='deprecated', validate=False),\n",
       "   'feat_pipe__cat__cat_encoder_2': OneHotEncoder(categorical_features=None, categories='auto', drop=None,\n",
       "                 dtype=<class 'numpy.uint8'>, handle_unknown='ignore',\n",
       "                 n_values=None, sparse=False),\n",
       "   'feat_pipe__num__scaler': StandardScaler(copy=True, with_mean=True, with_std=True)},\n",
       "  {'classifier': LogisticRegression(C=1.0, class_weight='balanced', dual=False,\n",
       "                      fit_intercept=True, intercept_scaling=1, l1_ratio=1,\n",
       "                      max_iter=1000, multi_class='warn', n_jobs=10,\n",
       "                      penalty='elasticnet', random_state=42, solver='saga',\n",
       "                      tol=0.0001, verbose=0, warm_start=False),\n",
       "   'classifier__l1_ratio': 1,\n",
       "   'feat_pipe__cat__cat_encoder_1': FunctionTransformer(accept_sparse=False, check_inverse=True,\n",
       "                       func=<function from_cat_to_str at 0x000001E59BA580D8>,\n",
       "                       inv_kw_args=None, inverse_func=None, kw_args=None,\n",
       "                       pass_y='deprecated', validate=False),\n",
       "   'feat_pipe__cat__cat_encoder_2': OneHotEncoder(categorical_features=None, categories='auto', drop=None,\n",
       "                 dtype=<class 'numpy.uint8'>, handle_unknown='ignore',\n",
       "                 n_values=None, sparse=False),\n",
       "   'feat_pipe__num__scaler': StandardScaler(copy=True, with_mean=True, with_std=True)}],\n",
       " 'split0_test_score': array([0.77204496, 0.77272884, 0.77255787]),\n",
       " 'split1_test_score': array([0.75925871, 0.76009533, 0.75958242]),\n",
       " 'split2_test_score': array([0.76361277, 0.76360147, 0.76377244]),\n",
       " 'split3_test_score': array([0.76146308, 0.76112114, 0.76212873]),\n",
       " 'split4_test_score': array([0.75241993, 0.75207799, 0.75257267]),\n",
       " 'mean_test_score': array([0.76175989, 0.76192495, 0.76212283]),\n",
       " 'std_test_score': array([0.00636859, 0.00664065, 0.00646947]),\n",
       " 'rank_test_score': array([3, 2, 1]),\n",
       " 'split0_train_score': array([0.76020925, 0.76026111, 0.76035069]),\n",
       " 'split1_train_score': array([0.76266616, 0.76262341, 0.76219599]),\n",
       " 'split2_train_score': array([0.76199249, 0.76208536, 0.76202894]),\n",
       " 'split3_train_score': array([0.76277442, 0.76310725, 0.76306451]),\n",
       " 'split4_train_score': array([0.76682301, 0.76665204, 0.76715128]),\n",
       " 'mean_train_score': array([0.76289307, 0.76294583, 0.76295828]),\n",
       " 'std_train_score': array([0.00216905, 0.00208874, 0.00227318])}"
      ]
     },
     "execution_count": 609,
     "metadata": {},
     "output_type": "execute_result"
    }
   ],
   "source": [
    "gs.cv_results_"
   ]
  },
  {
   "cell_type": "code",
   "execution_count": 513,
   "metadata": {
    "ExecuteTime": {
     "end_time": "2019-08-14T05:05:49.709709Z",
     "start_time": "2019-08-14T05:05:49.705714Z"
    }
   },
   "outputs": [
    {
     "data": {
      "text/plain": [
       "{'classifier': RandomForestClassifier(bootstrap=True, class_weight='balanced_subsample',\n",
       "                        criterion='gini', max_depth=None, max_features='auto',\n",
       "                        max_leaf_nodes=None, min_impurity_decrease=0.0,\n",
       "                        min_impurity_split=None, min_samples_leaf=1,\n",
       "                        min_samples_split=2, min_weight_fraction_leaf=0.0,\n",
       "                        n_estimators=500, n_jobs=10, oob_score=False,\n",
       "                        random_state=None, verbose=0, warm_start=False),\n",
       " 'classifier__class_weight': 'balanced_subsample',\n",
       " 'feat_pipe__cat__cat_encoder_1': None,\n",
       " 'feat_pipe__cat__cat_encoder_2': OneHotEncoder(categorical_features=None, categories='auto', drop=None,\n",
       "               dtype=<class 'numpy.uint8'>, handle_unknown='ignore',\n",
       "               n_values=None, sparse=False),\n",
       " 'feat_pipe__num__scaler': None}"
      ]
     },
     "execution_count": 513,
     "metadata": {},
     "output_type": "execute_result"
    }
   ],
   "source": [
    "gs.best_params_"
   ]
  }
 ],
 "metadata": {
  "kernelspec": {
   "display_name": "Python [conda env:sklearn_novo_2]",
   "language": "python",
   "name": "conda-env-sklearn_novo_2-py"
  },
  "language_info": {
   "codemirror_mode": {
    "name": "ipython",
    "version": 3
   },
   "file_extension": ".py",
   "mimetype": "text/x-python",
   "name": "python",
   "nbconvert_exporter": "python",
   "pygments_lexer": "ipython3",
   "version": "3.7.4"
  },
  "toc": {
   "base_numbering": 1,
   "nav_menu": {},
   "number_sections": true,
   "sideBar": true,
   "skip_h1_title": false,
   "title_cell": "Table of Contents",
   "title_sidebar": "Contents",
   "toc_cell": false,
   "toc_position": {},
   "toc_section_display": true,
   "toc_window_display": false
  },
  "varInspector": {
   "cols": {
    "lenName": 16,
    "lenType": 16,
    "lenVar": 40
   },
   "kernels_config": {
    "python": {
     "delete_cmd_postfix": "",
     "delete_cmd_prefix": "del ",
     "library": "var_list.py",
     "varRefreshCmd": "print(var_dic_list())"
    },
    "r": {
     "delete_cmd_postfix": ") ",
     "delete_cmd_prefix": "rm(",
     "library": "var_list.r",
     "varRefreshCmd": "cat(var_dic_list()) "
    }
   },
   "types_to_exclude": [
    "module",
    "function",
    "builtin_function_or_method",
    "instance",
    "_Feature"
   ],
   "window_display": false
  }
 },
 "nbformat": 4,
 "nbformat_minor": 2
}
